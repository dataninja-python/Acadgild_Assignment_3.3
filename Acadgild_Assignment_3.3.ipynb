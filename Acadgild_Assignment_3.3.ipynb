{
 "cells": [
  {
   "cell_type": "code",
   "execution_count": 1,
   "metadata": {},
   "outputs": [],
   "source": [
    "def longestWord(a_list): return max(a_list, key=len)\n",
    "def createList(sentence): return sentence.split()"
   ]
  },
  {
   "cell_type": "code",
   "execution_count": 2,
   "metadata": {},
   "outputs": [
    {
     "name": "stdout",
     "output_type": "stream",
     "text": [
      "anti-slavery is the longest word in the list and it has 12 letters.\n"
     ]
    }
   ],
   "source": [
    "word_cloud = ('lord god christ pray church bible religion brother sister \\\n",
    "mother father son daughter family freedman slave africa negro colored abolition \\\n",
    "anti-slavery peace fight battle conflict soldier rebel confederate')\n",
    "\n",
    "new_word_list = createList(word_cloud)\n",
    "longest_word = longestWord(new_word_list)\n",
    "\n",
    "print(longest_word + ' is the longest word in the list and it has {} letters.'.format(len(longest_word)))"
   ]
  }
 ],
 "metadata": {
  "kernelspec": {
   "display_name": "Python 3",
   "language": "python",
   "name": "python3"
  },
  "language_info": {
   "codemirror_mode": {
    "name": "ipython",
    "version": 3
   },
   "file_extension": ".py",
   "mimetype": "text/x-python",
   "name": "python",
   "nbconvert_exporter": "python",
   "pygments_lexer": "ipython3",
   "version": "3.6.6"
  }
 },
 "nbformat": 4,
 "nbformat_minor": 2
}
